{
 "cells": [
  {
   "cell_type": "code",
   "execution_count": 33,
   "metadata": {},
   "outputs": [],
   "source": [
    "import pymysql\n",
    "import csv\n",
    "import os\n",
    "import pandas as pd\n",
    "from dotenv import load_dotenv\n",
    "load_dotenv()\n",
    "MYSQL_ROOT_PW = os.environ.get(\"MYSQL_ROOT_PW\")"
   ]
  },
  {
   "cell_type": "code",
   "execution_count": 34,
   "metadata": {},
   "outputs": [],
   "source": [
    "con = pymysql.connect(host=\"localhost\", db=\"ecommerce\", user=\"root\", password=MYSQL_ROOT_PW)\n",
    "cur = con.cursor()"
   ]
  },
  {
   "cell_type": "code",
   "execution_count": 35,
   "metadata": {},
   "outputs": [
    {
     "data": {
      "text/plain": [
       "0"
      ]
     },
     "execution_count": 35,
     "metadata": {},
     "output_type": "execute_result"
    }
   ],
   "source": [
    "# 데이터 타입을 고려하여 schema를 설계한다\n",
    "\n",
    "retail_ddl = \"\"\"\n",
    "CREATE TABLE retail\n",
    "(\n",
    "    invoice_no VARCHAR(20),\n",
    "    stock_code VARCHAR(20),\n",
    "    description VARCHAR(50),\n",
    "    quantity INT,\n",
    "    invoice_date DATE,\n",
    "    unit_price FLOAT,\n",
    "    customer_id VARCHAR(20),\n",
    "    country VARCHAR(30)\n",
    ");\n",
    "\"\"\"\n",
    "\n",
    "cur.execute(retail_ddl)"
   ]
  },
  {
   "cell_type": "code",
   "execution_count": 41,
   "metadata": {},
   "outputs": [],
   "source": [
    "def insert_data(path, table, n_columns):\n",
    "    f = open(os.path.join(\"datasets\", path), \"r\")\n",
    "    reader = csv.reader(f)\n",
    "    next(reader, None)\n",
    "    for row in reader:\n",
    "        if row[-2] == \"\": continue\n",
    "        if float(row[3]) < 0: continue\n",
    "        query = f\"INSERT INTO {table} VALUES({', '.join(['%s' for x in range(n_columns)])})\"\n",
    "        cur.execute(query, tuple(row))\n",
    "    con.commit()\n",
    "    f.close()"
   ]
  },
  {
   "cell_type": "code",
   "execution_count": 42,
   "metadata": {},
   "outputs": [],
   "source": [
    "data_path = os.listdir(\"datasets\")\n",
    "insert_data(data_path[0], \"retail\", 8)\n",
    "con.close()"
   ]
  }
 ],
 "metadata": {
  "kernelspec": {
   "display_name": "tf",
   "language": "python",
   "name": "python3"
  },
  "language_info": {
   "codemirror_mode": {
    "name": "ipython",
    "version": 3
   },
   "file_extension": ".py",
   "mimetype": "text/x-python",
   "name": "python",
   "nbconvert_exporter": "python",
   "pygments_lexer": "ipython3",
   "version": "3.10.13"
  }
 },
 "nbformat": 4,
 "nbformat_minor": 2
}
