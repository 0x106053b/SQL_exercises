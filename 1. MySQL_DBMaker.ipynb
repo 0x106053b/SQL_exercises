{
 "cells": [
  {
   "cell_type": "code",
   "execution_count": 27,
   "metadata": {},
   "outputs": [],
   "source": [
    "import pymysql\n",
    "import csv\n",
    "import os\n",
    "from dotenv import load_dotenv\n",
    "load_dotenv()\n",
    "MYSQL_ROOT_PW = os.environ.get(\"MYSQL_ROOT_PW\")"
   ]
  },
  {
   "cell_type": "code",
   "execution_count": 28,
   "metadata": {},
   "outputs": [],
   "source": [
    "con = pymysql.connect(host=\"localhost\", db=\"ecommerce\", user=\"root\", password=MYSQL_ROOT_PW)\n",
    "cur = con.cursor()"
   ]
  },
  {
   "cell_type": "code",
   "execution_count": 29,
   "metadata": {},
   "outputs": [],
   "source": [
    "# data 디렉토리의 csv파일들을 mysql 서버에 적재하기 위한 CREATE TABLE DDL query 작성\n",
    "# 데이터 타입을 고려하여 schema를 설계한다\n",
    "\n",
    "customer_ddl = \"\"\"\n",
    "CREATE TABLE customer\n",
    "(\n",
    "    customer_id VARCHAR(10) NOT NULL,\n",
    "    gender VARCHAR(2),\n",
    "    city VARCHAR(20),\n",
    "    duration INT,\n",
    "    PRIMARY KEY (customer_id)\n",
    ");\n",
    "\"\"\"\n",
    "\n",
    "discount_ddl = \"\"\"\n",
    "CREATE TABLE discount\n",
    "(\n",
    "    month VARCHAR(5) NOT NULL,\n",
    "    category VARCHAR(20) NOT NULL,\n",
    "    coupon_code VARCHAR(10) NOT NULL,\n",
    "    discount_rate FLOAT\n",
    ");\n",
    "\"\"\"\n",
    "\n",
    "marketing_ddl = \"\"\"\n",
    "CREATE TABLE marketing\n",
    "(\n",
    "    marketing_date DATE NOT NULL,\n",
    "    offline_expense FLOAT,\n",
    "    online_expense FLOAT,\n",
    "    PRIMARY KEY (marketing_date)\n",
    ");\n",
    "\"\"\"\n",
    "\n",
    "onlinesales_ddl = \"\"\"\n",
    "CREATE TABLE onlinesales\n",
    "(\n",
    "    customer_id VARCHAR(10) NOT NULL,\n",
    "    transaction_id VARCHAR(30) NOT NULL,\n",
    "    transaction_date DATE,\n",
    "    product_id VARCHAR(20) NOT NULL,\n",
    "    category VARCHAR(20),\n",
    "    amount INT,\n",
    "    average_price FLOAT,\n",
    "    shipping_fee FLOAT,\n",
    "    coupon_status VARCHAR(20)\n",
    ");\n",
    "\"\"\"\n",
    "\n",
    "tax_ddl = \"\"\"\n",
    "CREATE TABLE tax\n",
    "(\n",
    "    category VARCHAR(20),\n",
    "    GST FLOAT\n",
    ");\n",
    "\"\"\"\n",
    "\n",
    "\n",
    "ddl_list = [customer_ddl, discount_ddl, marketing_ddl, onlinesales_ddl, tax_ddl]\n",
    "for ddl in ddl_list: cur.execute(ddl)"
   ]
  },
  {
   "cell_type": "code",
   "execution_count": 30,
   "metadata": {},
   "outputs": [],
   "source": [
    "def insert_data(path, table, n_columns):\n",
    "    f = open(os.path.join(\"data\", path), \"r\")\n",
    "    reader = csv.reader(f)\n",
    "    next(reader, None)\n",
    "    for row in reader:\n",
    "        query = f\"INSERT INTO {table} VALUES({', '.join(['%s' for x in range(n_columns)])})\"\n",
    "        cur.execute(query, tuple(row))\n",
    "    con.commit()\n",
    "    f.close()"
   ]
  },
  {
   "cell_type": "code",
   "execution_count": 31,
   "metadata": {},
   "outputs": [],
   "source": [
    "data_path = os.listdir(\"data\")\n",
    "insert_data(data_path[0], \"customer\", 4)\n",
    "insert_data(data_path[1], \"discount\", 4)\n",
    "insert_data(data_path[2], \"marketing\", 3)\n",
    "insert_data(data_path[3], \"onlinesales\", 9)\n",
    "insert_data(data_path[4], \"tax\", 2)"
   ]
  }
 ],
 "metadata": {
  "kernelspec": {
   "display_name": "tf",
   "language": "python",
   "name": "python3"
  },
  "language_info": {
   "codemirror_mode": {
    "name": "ipython",
    "version": 3
   },
   "file_extension": ".py",
   "mimetype": "text/x-python",
   "name": "python",
   "nbconvert_exporter": "python",
   "pygments_lexer": "ipython3",
   "version": "3.10.13"
  }
 },
 "nbformat": 4,
 "nbformat_minor": 2
}
